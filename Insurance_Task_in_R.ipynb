{
  "nbformat": 4,
  "nbformat_minor": 0,
  "metadata": {
    "colab": {
      "name": "DG Assessment Task in R - Tom C.ipynb",
      "provenance": []
    },
    "kernelspec": {
      "name": "ir",
      "display_name": "R"
    }
  },
  "cells": [
    {
      "cell_type": "code",
      "metadata": {
        "id": "YLeHs88hEgsL",
        "colab_type": "code",
        "colab": {
          "base_uri": "https://localhost:8080/",
          "height": 269
        },
        "outputId": "a72ea486-6051-4736-97a1-ff93a572fc61"
      },
      "source": [
        "library(dplyr)\n",
        "library(ggplot2)\n",
        "install.packages('gridExtra', repos='http://cran.rstudio.com/')\n",
        "library(gridExtra)\n",
        "install.packages('caret', repos='http://cran.rstudio.com/')\n",
        "library(caret)\n",
        "install.packages('mltools', repos='http://cran.rstudio.com/')\n",
        "library(data.table)\n",
        "library(mltools)\n",
        "library(tidyverse)\n",
        "install.packages('e1071', repos='http://cran.rstudio.com/')\n",
        "library(e1071)\n",
        "install.packages('randomForest', repos='http://cran.rstudio.com/')\n",
        "library(randomForest)\n"
      ],
      "execution_count": null,
      "outputs": [
        {
          "output_type": "stream",
          "text": [
            "Installing package into ‘/usr/local/lib/R/site-library’\n",
            "(as ‘lib’ is unspecified)\n",
            "\n",
            "Installing package into ‘/usr/local/lib/R/site-library’\n",
            "(as ‘lib’ is unspecified)\n",
            "\n",
            "Installing package into ‘/usr/local/lib/R/site-library’\n",
            "(as ‘lib’ is unspecified)\n",
            "\n",
            "Installing package into ‘/usr/local/lib/R/site-library’\n",
            "(as ‘lib’ is unspecified)\n",
            "\n",
            "Installing package into ‘/usr/local/lib/R/site-library’\n",
            "(as ‘lib’ is unspecified)\n",
            "\n"
          ],
          "name": "stderr"
        }
      ]
    },
    {
      "cell_type": "code",
      "metadata": {
        "id": "D_mHQn6MXOZ1",
        "colab_type": "code",
        "colab": {
          "base_uri": "https://localhost:8080/",
          "height": 195
        },
        "outputId": "be243f0f-3cb4-4c4a-f8ab-6747eb2c3b96"
      },
      "source": [
        "offers_sent <- read.csv(\"Offers_sent.csv\")\n",
        "head(offers_sent)"
      ],
      "execution_count": null,
      "outputs": [
        {
          "output_type": "display_data",
          "data": {
            "text/plain": [
              "  X OfferContactDate CustomerID ApplianceID Brand V1 V2 V3 V4 V5 V6 V7 V8 V9  \n",
              "1 1 09/03/2017        3711       2743       A     B  F  CK 3  6  16 A  5  8.89\n",
              "2 2 09/03/2017        5237       4627       A     A  E  AW 2  1   1 A  2  8.43\n",
              "3 3 09/03/2017        8539       8564       A     B  F  FF 4  1   6 A  2  8.18\n",
              "4 4 14/03/2017       13824      14153       A     B  F  TD 3  1   1 A  1  8.62\n",
              "5 5 09/03/2017        2746       1567       A     B  D  TD 3  0   1 A  2  8.60\n",
              "6 6 09/03/2017       13730      14053       A     B  E  TD 2  0   1 A  1  8.43"
            ],
            "text/latex": "A data.frame: 6 × 14\n\\begin{tabular}{r|llllllllllllll}\n  & X & OfferContactDate & CustomerID & ApplianceID & Brand & V1 & V2 & V3 & V4 & V5 & V6 & V7 & V8 & V9\\\\\n  & <int> & <fct> & <int> & <int> & <fct> & <fct> & <fct> & <fct> & <int> & <int> & <int> & <fct> & <int> & <dbl>\\\\\n\\hline\n\t1 & 1 & 09/03/2017 &  3711 &  2743 & A & B & F & CK & 3 & 6 & 16 & A & 5 & 8.89\\\\\n\t2 & 2 & 09/03/2017 &  5237 &  4627 & A & A & E & AW & 2 & 1 &  1 & A & 2 & 8.43\\\\\n\t3 & 3 & 09/03/2017 &  8539 &  8564 & A & B & F & FF & 4 & 1 &  6 & A & 2 & 8.18\\\\\n\t4 & 4 & 14/03/2017 & 13824 & 14153 & A & B & F & TD & 3 & 1 &  1 & A & 1 & 8.62\\\\\n\t5 & 5 & 09/03/2017 &  2746 &  1567 & A & B & D & TD & 3 & 0 &  1 & A & 2 & 8.60\\\\\n\t6 & 6 & 09/03/2017 & 13730 & 14053 & A & B & E & TD & 2 & 0 &  1 & A & 1 & 8.43\\\\\n\\end{tabular}\n",
            "text/markdown": "\nA data.frame: 6 × 14\n\n| <!--/--> | X &lt;int&gt; | OfferContactDate &lt;fct&gt; | CustomerID &lt;int&gt; | ApplianceID &lt;int&gt; | Brand &lt;fct&gt; | V1 &lt;fct&gt; | V2 &lt;fct&gt; | V3 &lt;fct&gt; | V4 &lt;int&gt; | V5 &lt;int&gt; | V6 &lt;int&gt; | V7 &lt;fct&gt; | V8 &lt;int&gt; | V9 &lt;dbl&gt; |\n|---|---|---|---|---|---|---|---|---|---|---|---|---|---|---|\n| 1 | 1 | 09/03/2017 |  3711 |  2743 | A | B | F | CK | 3 | 6 | 16 | A | 5 | 8.89 |\n| 2 | 2 | 09/03/2017 |  5237 |  4627 | A | A | E | AW | 2 | 1 |  1 | A | 2 | 8.43 |\n| 3 | 3 | 09/03/2017 |  8539 |  8564 | A | B | F | FF | 4 | 1 |  6 | A | 2 | 8.18 |\n| 4 | 4 | 14/03/2017 | 13824 | 14153 | A | B | F | TD | 3 | 1 |  1 | A | 1 | 8.62 |\n| 5 | 5 | 09/03/2017 |  2746 |  1567 | A | B | D | TD | 3 | 0 |  1 | A | 2 | 8.60 |\n| 6 | 6 | 09/03/2017 | 13730 | 14053 | A | B | E | TD | 2 | 0 |  1 | A | 1 | 8.43 |\n\n",
            "text/html": [
              "<table>\n",
              "<caption>A data.frame: 6 × 14</caption>\n",
              "<thead>\n",
              "\t<tr><th></th><th scope=col>X</th><th scope=col>OfferContactDate</th><th scope=col>CustomerID</th><th scope=col>ApplianceID</th><th scope=col>Brand</th><th scope=col>V1</th><th scope=col>V2</th><th scope=col>V3</th><th scope=col>V4</th><th scope=col>V5</th><th scope=col>V6</th><th scope=col>V7</th><th scope=col>V8</th><th scope=col>V9</th></tr>\n",
              "\t<tr><th></th><th scope=col>&lt;int&gt;</th><th scope=col>&lt;fct&gt;</th><th scope=col>&lt;int&gt;</th><th scope=col>&lt;int&gt;</th><th scope=col>&lt;fct&gt;</th><th scope=col>&lt;fct&gt;</th><th scope=col>&lt;fct&gt;</th><th scope=col>&lt;fct&gt;</th><th scope=col>&lt;int&gt;</th><th scope=col>&lt;int&gt;</th><th scope=col>&lt;int&gt;</th><th scope=col>&lt;fct&gt;</th><th scope=col>&lt;int&gt;</th><th scope=col>&lt;dbl&gt;</th></tr>\n",
              "</thead>\n",
              "<tbody>\n",
              "\t<tr><th scope=row>1</th><td>1</td><td>09/03/2017</td><td> 3711</td><td> 2743</td><td>A</td><td>B</td><td>F</td><td>CK</td><td>3</td><td>6</td><td>16</td><td>A</td><td>5</td><td>8.89</td></tr>\n",
              "\t<tr><th scope=row>2</th><td>2</td><td>09/03/2017</td><td> 5237</td><td> 4627</td><td>A</td><td>A</td><td>E</td><td>AW</td><td>2</td><td>1</td><td> 1</td><td>A</td><td>2</td><td>8.43</td></tr>\n",
              "\t<tr><th scope=row>3</th><td>3</td><td>09/03/2017</td><td> 8539</td><td> 8564</td><td>A</td><td>B</td><td>F</td><td>FF</td><td>4</td><td>1</td><td> 6</td><td>A</td><td>2</td><td>8.18</td></tr>\n",
              "\t<tr><th scope=row>4</th><td>4</td><td>14/03/2017</td><td>13824</td><td>14153</td><td>A</td><td>B</td><td>F</td><td>TD</td><td>3</td><td>1</td><td> 1</td><td>A</td><td>1</td><td>8.62</td></tr>\n",
              "\t<tr><th scope=row>5</th><td>5</td><td>09/03/2017</td><td> 2746</td><td> 1567</td><td>A</td><td>B</td><td>D</td><td>TD</td><td>3</td><td>0</td><td> 1</td><td>A</td><td>2</td><td>8.60</td></tr>\n",
              "\t<tr><th scope=row>6</th><td>6</td><td>09/03/2017</td><td>13730</td><td>14053</td><td>A</td><td>B</td><td>E</td><td>TD</td><td>2</td><td>0</td><td> 1</td><td>A</td><td>1</td><td>8.43</td></tr>\n",
              "</tbody>\n",
              "</table>\n"
            ]
          },
          "metadata": {
            "tags": []
          }
        }
      ]
    },
    {
      "cell_type": "code",
      "metadata": {
        "id": "QrIL-E5oexST",
        "colab_type": "code",
        "colab": {
          "base_uri": "https://localhost:8080/",
          "height": 50
        },
        "outputId": "6d514b70-f08f-4a9a-aed2-1ed8f3562b34"
      },
      "source": [
        "colSums(!is.na(offers_sent))"
      ],
      "execution_count": null,
      "outputs": [
        {
          "output_type": "display_data",
          "data": {
            "text/plain": [
              "               X OfferContactDate       CustomerID      ApplianceID \n",
              "           15513            15513            15513            15513 \n",
              "           Brand               V1               V2               V3 \n",
              "           15513            15513            15513            15513 \n",
              "              V4               V5               V6               V7 \n",
              "           15513            15513            15513            15513 \n",
              "              V8               V9 \n",
              "           15513            15513 "
            ],
            "text/latex": "\\begin{description*}\n\\item[X] 15513\n\\item[OfferContactDate] 15513\n\\item[CustomerID] 15513\n\\item[ApplianceID] 15513\n\\item[Brand] 15513\n\\item[V1] 15513\n\\item[V2] 15513\n\\item[V3] 15513\n\\item[V4] 15513\n\\item[V5] 15513\n\\item[V6] 15513\n\\item[V7] 15513\n\\item[V8] 15513\n\\item[V9] 15513\n\\end{description*}\n",
            "text/markdown": "X\n:   15513OfferContactDate\n:   15513CustomerID\n:   15513ApplianceID\n:   15513Brand\n:   15513V1\n:   15513V2\n:   15513V3\n:   15513V4\n:   15513V5\n:   15513V6\n:   15513V7\n:   15513V8\n:   15513V9\n:   15513\n\n",
            "text/html": [
              "<style>\n",
              ".dl-inline {width: auto; margin:0; padding: 0}\n",
              ".dl-inline>dt, .dl-inline>dd {float: none; width: auto; display: inline-block}\n",
              ".dl-inline>dt::after {content: \":\\0020\"; padding-right: .5ex}\n",
              ".dl-inline>dt:not(:first-of-type) {padding-left: .5ex}\n",
              "</style><dl class=dl-inline><dt>X</dt><dd>15513</dd><dt>OfferContactDate</dt><dd>15513</dd><dt>CustomerID</dt><dd>15513</dd><dt>ApplianceID</dt><dd>15513</dd><dt>Brand</dt><dd>15513</dd><dt>V1</dt><dd>15513</dd><dt>V2</dt><dd>15513</dd><dt>V3</dt><dd>15513</dd><dt>V4</dt><dd>15513</dd><dt>V5</dt><dd>15513</dd><dt>V6</dt><dd>15513</dd><dt>V7</dt><dd>15513</dd><dt>V8</dt><dd>15513</dd><dt>V9</dt><dd>15513</dd></dl>\n"
            ]
          },
          "metadata": {
            "tags": []
          }
        }
      ]
    },
    {
      "cell_type": "code",
      "metadata": {
        "id": "W10qpU9ZYxh7",
        "colab_type": "code",
        "colab": {
          "base_uri": "https://localhost:8080/",
          "height": 195
        },
        "outputId": "b24e5540-6d8e-4c9a-9280-eac90b6cf128"
      },
      "source": [
        "offers_accepted <- read.csv(\"Offers_accepted.csv\")\n",
        "head(offers_accepted)\n",
        "\n",
        "#Two offer accepted records for the customer below, both after offer contact date - will take the first one and remove the duplicate\n",
        "#CustomerID ApplianceID\n",
        "#   396         1514 "
      ],
      "execution_count": null,
      "outputs": [
        {
          "output_type": "display_data",
          "data": {
            "text/plain": [
              "  OfferAcceptanceDate CustomerID ApplianceID\n",
              "1 29/04/2017           2482       1237      \n",
              "2 02/05/2017            382       1434      \n",
              "3 08/05/2017          12967      13229      \n",
              "4 15/05/2017          11452      11645      \n",
              "5 30/05/2017           7593       7493      \n",
              "6 03/04/2017          11313      11498      "
            ],
            "text/latex": "A data.frame: 6 × 3\n\\begin{tabular}{r|lll}\n  & OfferAcceptanceDate & CustomerID & ApplianceID\\\\\n  & <fct> & <int> & <int>\\\\\n\\hline\n\t1 & 29/04/2017 &  2482 &  1237\\\\\n\t2 & 02/05/2017 &   382 &  1434\\\\\n\t3 & 08/05/2017 & 12967 & 13229\\\\\n\t4 & 15/05/2017 & 11452 & 11645\\\\\n\t5 & 30/05/2017 &  7593 &  7493\\\\\n\t6 & 03/04/2017 & 11313 & 11498\\\\\n\\end{tabular}\n",
            "text/markdown": "\nA data.frame: 6 × 3\n\n| <!--/--> | OfferAcceptanceDate &lt;fct&gt; | CustomerID &lt;int&gt; | ApplianceID &lt;int&gt; |\n|---|---|---|---|\n| 1 | 29/04/2017 |  2482 |  1237 |\n| 2 | 02/05/2017 |   382 |  1434 |\n| 3 | 08/05/2017 | 12967 | 13229 |\n| 4 | 15/05/2017 | 11452 | 11645 |\n| 5 | 30/05/2017 |  7593 |  7493 |\n| 6 | 03/04/2017 | 11313 | 11498 |\n\n",
            "text/html": [
              "<table>\n",
              "<caption>A data.frame: 6 × 3</caption>\n",
              "<thead>\n",
              "\t<tr><th></th><th scope=col>OfferAcceptanceDate</th><th scope=col>CustomerID</th><th scope=col>ApplianceID</th></tr>\n",
              "\t<tr><th></th><th scope=col>&lt;fct&gt;</th><th scope=col>&lt;int&gt;</th><th scope=col>&lt;int&gt;</th></tr>\n",
              "</thead>\n",
              "<tbody>\n",
              "\t<tr><th scope=row>1</th><td>29/04/2017</td><td> 2482</td><td> 1237</td></tr>\n",
              "\t<tr><th scope=row>2</th><td>02/05/2017</td><td>  382</td><td> 1434</td></tr>\n",
              "\t<tr><th scope=row>3</th><td>08/05/2017</td><td>12967</td><td>13229</td></tr>\n",
              "\t<tr><th scope=row>4</th><td>15/05/2017</td><td>11452</td><td>11645</td></tr>\n",
              "\t<tr><th scope=row>5</th><td>30/05/2017</td><td> 7593</td><td> 7493</td></tr>\n",
              "\t<tr><th scope=row>6</th><td>03/04/2017</td><td>11313</td><td>11498</td></tr>\n",
              "</tbody>\n",
              "</table>\n"
            ]
          },
          "metadata": {
            "tags": []
          }
        }
      ]
    },
    {
      "cell_type": "code",
      "metadata": {
        "id": "aK3dzJImgjJ0",
        "colab_type": "code",
        "colab": {}
      },
      "source": [
        "#Remove Duplicate\n",
        "offers_accepted = offers_accepted [!duplicated(offers_accepted[c('CustomerID', 'ApplianceID')]),]"
      ],
      "execution_count": null,
      "outputs": []
    },
    {
      "cell_type": "code",
      "metadata": {
        "id": "S-qBQ637hGjK",
        "colab_type": "code",
        "colab": {
          "base_uri": "https://localhost:8080/",
          "height": 34
        },
        "outputId": "3d6c3dce-a65a-418b-f0fb-32070eb063a7"
      },
      "source": [
        "dim(offers_accepted)"
      ],
      "execution_count": null,
      "outputs": [
        {
          "output_type": "display_data",
          "data": {
            "text/plain": [
              "[1] 289   3"
            ],
            "text/latex": "\\begin{enumerate*}\n\\item 289\n\\item 3\n\\end{enumerate*}\n",
            "text/markdown": "1. 289\n2. 3\n\n\n",
            "text/html": [
              "<style>\n",
              ".list-inline {list-style: none; margin:0; padding: 0}\n",
              ".list-inline>li {display: inline-block}\n",
              ".list-inline>li:not(:last-child)::after {content: \"\\00b7\"; padding: 0 .5ex}\n",
              "</style>\n",
              "<ol class=list-inline><li>289</li><li>3</li></ol>\n"
            ]
          },
          "metadata": {
            "tags": []
          }
        }
      ]
    },
    {
      "cell_type": "code",
      "metadata": {
        "id": "2UhKCYdvZi4t",
        "colab_type": "code",
        "colab": {}
      },
      "source": [
        "#Join offeres sent and offers accepted \n",
        "df <-  left_join(offers_sent, offers_accepted, by =c('CustomerID'='CustomerID', 'ApplianceID'='ApplianceID'))  %>% \n",
        "                      mutate(offeraccepted = case_when(!is.na(OfferAcceptanceDate) ~ 1, TRUE ~ 0)) \n",
        "                      \n",
        "df$OfferContactDate <- as.Date(df$OfferContactDate, format = \"%d/%m/%Y\")\n",
        "df$OfferAcceptanceDate <- as.Date(df$OfferAcceptanceDate, format = \"%d/%m/%Y\")\n"
      ],
      "execution_count": null,
      "outputs": []
    },
    {
      "cell_type": "code",
      "metadata": {
        "id": "NKCd2Wjqa3gi",
        "colab_type": "code",
        "colab": {
          "base_uri": "https://localhost:8080/",
          "height": 50
        },
        "outputId": "3c0b3dde-0665-4d03-a8bc-e1b9805ba1c2"
      },
      "source": [
        "colSums(!is.na(df))"
      ],
      "execution_count": null,
      "outputs": [
        {
          "output_type": "display_data",
          "data": {
            "text/plain": [
              "                  X    OfferContactDate          CustomerID         ApplianceID \n",
              "              15513               15513               15513               15513 \n",
              "              Brand                  V1                  V2                  V3 \n",
              "              15513               15513               15513               15513 \n",
              "                 V4                  V5                  V6                  V7 \n",
              "              15513               15513               15513               15513 \n",
              "                 V8                  V9 OfferAcceptanceDate       offeraccepted \n",
              "              15513               15513                 289               15513 "
            ],
            "text/latex": "\\begin{description*}\n\\item[X] 15513\n\\item[OfferContactDate] 15513\n\\item[CustomerID] 15513\n\\item[ApplianceID] 15513\n\\item[Brand] 15513\n\\item[V1] 15513\n\\item[V2] 15513\n\\item[V3] 15513\n\\item[V4] 15513\n\\item[V5] 15513\n\\item[V6] 15513\n\\item[V7] 15513\n\\item[V8] 15513\n\\item[V9] 15513\n\\item[OfferAcceptanceDate] 289\n\\item[offeraccepted] 15513\n\\end{description*}\n",
            "text/markdown": "X\n:   15513OfferContactDate\n:   15513CustomerID\n:   15513ApplianceID\n:   15513Brand\n:   15513V1\n:   15513V2\n:   15513V3\n:   15513V4\n:   15513V5\n:   15513V6\n:   15513V7\n:   15513V8\n:   15513V9\n:   15513OfferAcceptanceDate\n:   289offeraccepted\n:   15513\n\n",
            "text/html": [
              "<style>\n",
              ".dl-inline {width: auto; margin:0; padding: 0}\n",
              ".dl-inline>dt, .dl-inline>dd {float: none; width: auto; display: inline-block}\n",
              ".dl-inline>dt::after {content: \":\\0020\"; padding-right: .5ex}\n",
              ".dl-inline>dt:not(:first-of-type) {padding-left: .5ex}\n",
              "</style><dl class=dl-inline><dt>X</dt><dd>15513</dd><dt>OfferContactDate</dt><dd>15513</dd><dt>CustomerID</dt><dd>15513</dd><dt>ApplianceID</dt><dd>15513</dd><dt>Brand</dt><dd>15513</dd><dt>V1</dt><dd>15513</dd><dt>V2</dt><dd>15513</dd><dt>V3</dt><dd>15513</dd><dt>V4</dt><dd>15513</dd><dt>V5</dt><dd>15513</dd><dt>V6</dt><dd>15513</dd><dt>V7</dt><dd>15513</dd><dt>V8</dt><dd>15513</dd><dt>V9</dt><dd>15513</dd><dt>OfferAcceptanceDate</dt><dd>289</dd><dt>offeraccepted</dt><dd>15513</dd></dl>\n"
            ]
          },
          "metadata": {
            "tags": []
          }
        }
      ]
    },
    {
      "cell_type": "code",
      "metadata": {
        "id": "knqkOlRLi-rU",
        "colab_type": "code",
        "colab": {
          "base_uri": "https://localhost:8080/",
          "height": 195
        },
        "outputId": "333fe9a8-a182-4d89-d424-4786af8bb0be"
      },
      "source": [
        "head(df)"
      ],
      "execution_count": null,
      "outputs": [
        {
          "output_type": "display_data",
          "data": {
            "text/plain": [
              "  X OfferContactDate CustomerID ApplianceID Brand V1 V2 V3 V4 V5 V6 V7 V8 V9  \n",
              "1 1 2017-03-09        3711       2743       A     B  F  CK 3  6  16 A  5  8.89\n",
              "2 2 2017-03-09        5237       4627       A     A  E  AW 2  1   1 A  2  8.43\n",
              "3 3 2017-03-09        8539       8564       A     B  F  FF 4  1   6 A  2  8.18\n",
              "4 4 2017-03-14       13824      14153       A     B  F  TD 3  1   1 A  1  8.62\n",
              "5 5 2017-03-09        2746       1567       A     B  D  TD 3  0   1 A  2  8.60\n",
              "6 6 2017-03-09       13730      14053       A     B  E  TD 2  0   1 A  1  8.43\n",
              "  OfferAcceptanceDate offeraccepted\n",
              "1 <NA>                0            \n",
              "2 <NA>                0            \n",
              "3 <NA>                0            \n",
              "4 <NA>                0            \n",
              "5 <NA>                0            \n",
              "6 <NA>                0            "
            ],
            "text/latex": "A data.frame: 6 × 16\n\\begin{tabular}{r|llllllllllllllll}\n  & X & OfferContactDate & CustomerID & ApplianceID & Brand & V1 & V2 & V3 & V4 & V5 & V6 & V7 & V8 & V9 & OfferAcceptanceDate & offeraccepted\\\\\n  & <int> & <date> & <int> & <int> & <fct> & <fct> & <fct> & <fct> & <int> & <int> & <int> & <fct> & <int> & <dbl> & <date> & <dbl>\\\\\n\\hline\n\t1 & 1 & 2017-03-09 &  3711 &  2743 & A & B & F & CK & 3 & 6 & 16 & A & 5 & 8.89 & NA & 0\\\\\n\t2 & 2 & 2017-03-09 &  5237 &  4627 & A & A & E & AW & 2 & 1 &  1 & A & 2 & 8.43 & NA & 0\\\\\n\t3 & 3 & 2017-03-09 &  8539 &  8564 & A & B & F & FF & 4 & 1 &  6 & A & 2 & 8.18 & NA & 0\\\\\n\t4 & 4 & 2017-03-14 & 13824 & 14153 & A & B & F & TD & 3 & 1 &  1 & A & 1 & 8.62 & NA & 0\\\\\n\t5 & 5 & 2017-03-09 &  2746 &  1567 & A & B & D & TD & 3 & 0 &  1 & A & 2 & 8.60 & NA & 0\\\\\n\t6 & 6 & 2017-03-09 & 13730 & 14053 & A & B & E & TD & 2 & 0 &  1 & A & 1 & 8.43 & NA & 0\\\\\n\\end{tabular}\n",
            "text/markdown": "\nA data.frame: 6 × 16\n\n| <!--/--> | X &lt;int&gt; | OfferContactDate &lt;date&gt; | CustomerID &lt;int&gt; | ApplianceID &lt;int&gt; | Brand &lt;fct&gt; | V1 &lt;fct&gt; | V2 &lt;fct&gt; | V3 &lt;fct&gt; | V4 &lt;int&gt; | V5 &lt;int&gt; | V6 &lt;int&gt; | V7 &lt;fct&gt; | V8 &lt;int&gt; | V9 &lt;dbl&gt; | OfferAcceptanceDate &lt;date&gt; | offeraccepted &lt;dbl&gt; |\n|---|---|---|---|---|---|---|---|---|---|---|---|---|---|---|---|---|\n| 1 | 1 | 2017-03-09 |  3711 |  2743 | A | B | F | CK | 3 | 6 | 16 | A | 5 | 8.89 | NA | 0 |\n| 2 | 2 | 2017-03-09 |  5237 |  4627 | A | A | E | AW | 2 | 1 |  1 | A | 2 | 8.43 | NA | 0 |\n| 3 | 3 | 2017-03-09 |  8539 |  8564 | A | B | F | FF | 4 | 1 |  6 | A | 2 | 8.18 | NA | 0 |\n| 4 | 4 | 2017-03-14 | 13824 | 14153 | A | B | F | TD | 3 | 1 |  1 | A | 1 | 8.62 | NA | 0 |\n| 5 | 5 | 2017-03-09 |  2746 |  1567 | A | B | D | TD | 3 | 0 |  1 | A | 2 | 8.60 | NA | 0 |\n| 6 | 6 | 2017-03-09 | 13730 | 14053 | A | B | E | TD | 2 | 0 |  1 | A | 1 | 8.43 | NA | 0 |\n\n",
            "text/html": [
              "<table>\n",
              "<caption>A data.frame: 6 × 16</caption>\n",
              "<thead>\n",
              "\t<tr><th></th><th scope=col>X</th><th scope=col>OfferContactDate</th><th scope=col>CustomerID</th><th scope=col>ApplianceID</th><th scope=col>Brand</th><th scope=col>V1</th><th scope=col>V2</th><th scope=col>V3</th><th scope=col>V4</th><th scope=col>V5</th><th scope=col>V6</th><th scope=col>V7</th><th scope=col>V8</th><th scope=col>V9</th><th scope=col>OfferAcceptanceDate</th><th scope=col>offeraccepted</th></tr>\n",
              "\t<tr><th></th><th scope=col>&lt;int&gt;</th><th scope=col>&lt;date&gt;</th><th scope=col>&lt;int&gt;</th><th scope=col>&lt;int&gt;</th><th scope=col>&lt;fct&gt;</th><th scope=col>&lt;fct&gt;</th><th scope=col>&lt;fct&gt;</th><th scope=col>&lt;fct&gt;</th><th scope=col>&lt;int&gt;</th><th scope=col>&lt;int&gt;</th><th scope=col>&lt;int&gt;</th><th scope=col>&lt;fct&gt;</th><th scope=col>&lt;int&gt;</th><th scope=col>&lt;dbl&gt;</th><th scope=col>&lt;date&gt;</th><th scope=col>&lt;dbl&gt;</th></tr>\n",
              "</thead>\n",
              "<tbody>\n",
              "\t<tr><th scope=row>1</th><td>1</td><td>2017-03-09</td><td> 3711</td><td> 2743</td><td>A</td><td>B</td><td>F</td><td>CK</td><td>3</td><td>6</td><td>16</td><td>A</td><td>5</td><td>8.89</td><td>NA</td><td>0</td></tr>\n",
              "\t<tr><th scope=row>2</th><td>2</td><td>2017-03-09</td><td> 5237</td><td> 4627</td><td>A</td><td>A</td><td>E</td><td>AW</td><td>2</td><td>1</td><td> 1</td><td>A</td><td>2</td><td>8.43</td><td>NA</td><td>0</td></tr>\n",
              "\t<tr><th scope=row>3</th><td>3</td><td>2017-03-09</td><td> 8539</td><td> 8564</td><td>A</td><td>B</td><td>F</td><td>FF</td><td>4</td><td>1</td><td> 6</td><td>A</td><td>2</td><td>8.18</td><td>NA</td><td>0</td></tr>\n",
              "\t<tr><th scope=row>4</th><td>4</td><td>2017-03-14</td><td>13824</td><td>14153</td><td>A</td><td>B</td><td>F</td><td>TD</td><td>3</td><td>1</td><td> 1</td><td>A</td><td>1</td><td>8.62</td><td>NA</td><td>0</td></tr>\n",
              "\t<tr><th scope=row>5</th><td>5</td><td>2017-03-09</td><td> 2746</td><td> 1567</td><td>A</td><td>B</td><td>D</td><td>TD</td><td>3</td><td>0</td><td> 1</td><td>A</td><td>2</td><td>8.60</td><td>NA</td><td>0</td></tr>\n",
              "\t<tr><th scope=row>6</th><td>6</td><td>2017-03-09</td><td>13730</td><td>14053</td><td>A</td><td>B</td><td>E</td><td>TD</td><td>2</td><td>0</td><td> 1</td><td>A</td><td>1</td><td>8.43</td><td>NA</td><td>0</td></tr>\n",
              "</tbody>\n",
              "</table>\n"
            ]
          },
          "metadata": {
            "tags": []
          }
        }
      ]
    },
    {
      "cell_type": "code",
      "metadata": {
        "id": "cUtQkTHJdq6i",
        "colab_type": "code",
        "colab": {
          "base_uri": "https://localhost:8080/",
          "height": 554
        },
        "outputId": "f07d3337-1260-4e8b-ae5e-2bad1f1c5296"
      },
      "source": [
        "#Investigate data\n",
        "summary(df)"
      ],
      "execution_count": null,
      "outputs": [
        {
          "output_type": "display_data",
          "data": {
            "text/plain": [
              "       X         OfferContactDate       CustomerID     ApplianceID    Brand   \n",
              " Min.   :    1   Min.   :2017-03-03   Min.   :    1   Min.   :    1   A:9644  \n",
              " 1st Qu.: 3879   1st Qu.:2017-03-09   1st Qu.: 3782   1st Qu.: 3869   B:1900  \n",
              " Median : 7757   Median :2017-03-13   Median : 7566   Median : 7745   C:3969  \n",
              " Mean   : 7757   Mean   :2017-03-13   Mean   : 7540   Mean   : 7746           \n",
              " 3rd Qu.:11635   3rd Qu.:2017-03-21   3rd Qu.:11310   3rd Qu.:11622           \n",
              " Max.   :15513   Max.   :2017-03-23   Max.   :14993   Max.   :15496           \n",
              "                                                                              \n",
              " V1              V2             V3             V4               V5         \n",
              " A: 2047   F      :6918   AW     :5384   Min.   : 0.000   Min.   : 0.0000  \n",
              " B:12494   E      :5941   FF     :2664   1st Qu.: 2.000   1st Qu.: 0.0000  \n",
              " C:  972   D      :1850   CK     :1997   Median : 3.000   Median : 1.0000  \n",
              "           G      : 639   TD     :1423   Mean   : 3.055   Mean   : 0.8976  \n",
              "           A      :  97   OV     : 843   3rd Qu.: 3.000   3rd Qu.: 1.0000  \n",
              "           B      :  63   FZ     : 760   Max.   :62.000   Max.   :55.0000  \n",
              "           (Other):   5   (Other):2442                                     \n",
              "       V6          V7              V8               V9       \n",
              " Min.   :  0.000   A:15513   Min.   : 1.000   Min.   :8.000  \n",
              " 1st Qu.:  1.000             1st Qu.: 1.000   1st Qu.:8.250  \n",
              " Median :  3.000             Median : 2.000   Median :8.500  \n",
              " Mean   :  4.711             Mean   : 2.404   Mean   :8.499  \n",
              " 3rd Qu.:  6.000             3rd Qu.: 3.000   3rd Qu.:8.750  \n",
              " Max.   :286.000             Max.   :84.000   Max.   :9.000  \n",
              "                                                             \n",
              " OfferAcceptanceDate  offeraccepted    \n",
              " Min.   :2017-03-16   Min.   :0.00000  \n",
              " 1st Qu.:2017-04-11   1st Qu.:0.00000  \n",
              " Median :2017-04-29   Median :0.00000  \n",
              " Mean   :2017-05-04   Mean   :0.01863  \n",
              " 3rd Qu.:2017-05-22   3rd Qu.:0.00000  \n",
              " Max.   :2017-07-01   Max.   :1.00000  \n",
              " NA's   :15224                         "
            ]
          },
          "metadata": {
            "tags": []
          }
        }
      ]
    },
    {
      "cell_type": "code",
      "metadata": {
        "id": "M7Om0IJzb17K",
        "colab_type": "code",
        "colab": {
          "base_uri": "https://localhost:8080/",
          "height": 410
        },
        "outputId": "52fe718a-8ee4-4d89-a801-b191837bbac2"
      },
      "source": [
        "#visualise numeric data\n",
        "df %>%\n",
        "  keep(is.numeric) %>% \n",
        "  gather() %>% \n",
        "  ggplot(aes(value)) +\n",
        "    facet_wrap(~ key, scales = \"free\") +\n",
        "    geom_histogram()"
      ],
      "execution_count": null,
      "outputs": [
        {
          "output_type": "stream",
          "text": [
            "`stat_bin()` using `bins = 30`. Pick better value with `binwidth`.\n",
            "\n"
          ],
          "name": "stderr"
        },
        {
          "output_type": "display_data",
          "data": {
            "image/png": "[encoded data removed]",
            "text/plain": [
              "plot without title"
            ]
          },
          "metadata": {
            "tags": [],
            "image/png": {
              "width": 840,
              "height": 360
            },
            "text/plain": {
              "width": 840,
              "height": 360
            }
          }
        }
      ]
    },
    {
      "cell_type": "code",
      "metadata": {
        "id": "kLcfX3lFeP72",
        "colab_type": "code",
        "colab": {
          "base_uri": "https://localhost:8080/",
          "height": 169
        },
        "outputId": "82d1e59a-4104-4aa2-c406-0dbb80ac113b"
      },
      "source": [
        "#Frequency table for hypothesis test\n",
        "freq <- df %>% group_by(Brand) %>% summarise(count_offers = sum(offeraccepted), n = n())\n",
        "freq"
      ],
      "execution_count": null,
      "outputs": [
        {
          "output_type": "stream",
          "text": [
            "`summarise()` ungrouping output (override with `.groups` argument)\n",
            "\n"
          ],
          "name": "stderr"
        },
        {
          "output_type": "display_data",
          "data": {
            "text/plain": [
              "  Brand count_offers n   \n",
              "1 A     192          9644\n",
              "2 B      34          1900\n",
              "3 C      63          3969"
            ],
            "text/latex": "A tibble: 3 × 3\n\\begin{tabular}{lll}\n Brand & count\\_offers & n\\\\\n <fct> & <dbl> & <int>\\\\\n\\hline\n\t A & 192 & 9644\\\\\n\t B &  34 & 1900\\\\\n\t C &  63 & 3969\\\\\n\\end{tabular}\n",
            "text/markdown": "\nA tibble: 3 × 3\n\n| Brand &lt;fct&gt; | count_offers &lt;dbl&gt; | n &lt;int&gt; |\n|---|---|---|\n| A | 192 | 9644 |\n| B |  34 | 1900 |\n| C |  63 | 3969 |\n\n",
            "text/html": [
              "<table>\n",
              "<caption>A tibble: 3 × 3</caption>\n",
              "<thead>\n",
              "\t<tr><th scope=col>Brand</th><th scope=col>count_offers</th><th scope=col>n</th></tr>\n",
              "\t<tr><th scope=col>&lt;fct&gt;</th><th scope=col>&lt;dbl&gt;</th><th scope=col>&lt;int&gt;</th></tr>\n",
              "</thead>\n",
              "<tbody>\n",
              "\t<tr><td>A</td><td>192</td><td>9644</td></tr>\n",
              "\t<tr><td>B</td><td> 34</td><td>1900</td></tr>\n",
              "\t<tr><td>C</td><td> 63</td><td>3969</td></tr>\n",
              "</tbody>\n",
              "</table>\n"
            ]
          },
          "metadata": {
            "tags": []
          }
        }
      ]
    },
    {
      "cell_type": "code",
      "metadata": {
        "id": "h0pq_IwZiJxA",
        "colab_type": "code",
        "colab": {
          "base_uri": "https://localhost:8080/",
          "height": 185
        },
        "outputId": "ddffa7b4-4ca7-4e18-8923-6563c02ef6e4"
      },
      "source": [
        "#Comepare all brands and check if there is a statistically significant difference\n",
        "brand_accept <- as.vector(freq$count_offers)\n",
        "brand_total <- as.vector(freq$n)\n",
        "prop.test(brand_accept,brand_total)"
      ],
      "execution_count": null,
      "outputs": [
        {
          "output_type": "display_data",
          "data": {
            "text/plain": [
              "\n",
              "\t3-sample test for equality of proportions without continuity\n",
              "\tcorrection\n",
              "\n",
              "data:  brand_accept out of brand_total\n",
              "X-squared = 2.5689, df = 2, p-value = 0.2768\n",
              "alternative hypothesis: two.sided\n",
              "sample estimates:\n",
              "    prop 1     prop 2     prop 3 \n",
              "0.01990875 0.01789474 0.01587302 \n"
            ]
          },
          "metadata": {
            "tags": []
          }
        }
      ]
    },
    {
      "cell_type": "code",
      "metadata": {
        "id": "6knxf9KSrCeM",
        "colab_type": "code",
        "colab": {}
      },
      "source": [
        "#Check between two groups to see confidence intervals - not significant\n",
        "\n",
        "# AB_freq <- freq[which(freq$Brand %in% c('A','B')),]\n",
        "# AB_accept <- as.vector(AB_freq$count_offers)\n",
        "# AB_total <- as.vector(AB_freq$n)\n",
        "# prop.test(AB_accept,AB_total)"
      ],
      "execution_count": null,
      "outputs": []
    },
    {
      "cell_type": "code",
      "metadata": {
        "id": "PMEZ6fJZu91w",
        "colab_type": "code",
        "colab": {}
      },
      "source": [
        "#Get data formatted ready for graphing\n",
        "df_cumsum_actual <- df %>% arrange(OfferAcceptanceDate) %>% \n",
        "  mutate(CumulativeSum = cumsum(offeraccepted)) %>% filter(!is.na(OfferAcceptanceDate))\n",
        "\n",
        "df_cumsum_diff <- df %>% mutate(TimeTillAcceptance = OfferAcceptanceDate - OfferContactDate) %>% arrange(TimeTillAcceptance) %>% \n",
        "  mutate(CumulativeSum = cumsum(offeraccepted)) %>% filter(!is.na(OfferAcceptanceDate)) "
      ],
      "execution_count": null,
      "outputs": []
    },
    {
      "cell_type": "code",
      "metadata": {
        "id": "N6mwuQUsiPvQ",
        "colab_type": "code",
        "colab": {
          "base_uri": "https://localhost:8080/",
          "height": 84
        },
        "outputId": "5b94996b-f319-4e81-cd1f-9221e1da6568"
      },
      "source": [
        "#Calculate tables for daily, weekly and monthly graphs\n",
        "df$TimeTillAcceptance = df$OfferAcceptanceDate - df$OfferContactDate\n",
        "df$week = as.numeric(ceiling(df$TimeTillAcceptance/7))\n",
        "df$month = as.numeric(ceiling(df$TimeTillAcceptance/30.24))\n",
        "\n",
        "df_cumsum_week <- df %>% filter(!is.na(OfferAcceptanceDate)) %>% group_by(week) %>%  summarise(n = n())\n",
        "df_cumsum_week <- df_cumsum_week %>% mutate(CumulativeSum = cumsum(n))\n",
        "df_cumsum_month <- df %>% filter(!is.na(OfferAcceptanceDate)) %>% group_by(month) %>%  summarise(n = n())\n",
        "df_cumsum_month <- df_cumsum_month %>% mutate(CumulativeSum = cumsum(n))"
      ],
      "execution_count": null,
      "outputs": [
        {
          "output_type": "stream",
          "text": [
            "`summarise()` ungrouping output (override with `.groups` argument)\n",
            "\n",
            "`summarise()` ungrouping output (override with `.groups` argument)\n",
            "\n"
          ],
          "name": "stderr"
        }
      ]
    },
    {
      "cell_type": "markdown",
      "metadata": {
        "id": "h8HHHOYAh6jf",
        "colab_type": "text"
      },
      "source": [
        ""
      ]
    },
    {
      "cell_type": "code",
      "metadata": {
        "id": "ItgtBMyQvmqk",
        "colab_type": "code",
        "colab": {
          "base_uri": "https://localhost:8080/",
          "height": 377
        },
        "outputId": "7d59ff49-8b1c-411e-b813-4204f537e397"
      },
      "source": [
        "#Cumulative sum by actual date of acceptance\n",
        "ggplot(data = df_cumsum_actual, aes(x = OfferAcceptanceDate, y = CumulativeSum))+\n",
        "  geom_line(color = \"#00AFBB\", size = 2)"
      ],
      "execution_count": null,
      "outputs": [
        {
          "output_type": "display_data",
          "data": {
            "image/png": "[encoded data removed]",
            "text/plain": [
              "plot without title"
            ]
          },
          "metadata": {
            "tags": [],
            "image/png": {
              "width": 840,
              "height": 360
            },
            "text/plain": {
              "width": 840,
              "height": 360
            }
          }
        }
      ]
    },
    {
      "cell_type": "code",
      "metadata": {
        "id": "5z_5WRqAxffN",
        "colab_type": "code",
        "colab": {
          "base_uri": "https://localhost:8080/",
          "height": 410
        },
        "outputId": "d6b5f4c9-de18-4bad-8b63-483f051f581a"
      },
      "source": [
        "#Culumative sum of time till acceptance - daily, weekly, monthly\n",
        "p1 <- ggplot(data = df_cumsum_diff, aes(x = TimeTillAcceptance, y = CumulativeSum))+ geom_line() + geom_point() +\n",
        "  geom_line(color = \"#00AFBB\", size = 2) + labs(y=\"Cumulative Accepted Offers\", x = \"Days from Contact till Acceptance\") + ggtitle(\"Cumulative Accepted Offers by Day\")\n",
        "p2 <- ggplot(data = df_cumsum_week, aes(x = week, y = CumulativeSum)) +  geom_line() + geom_point()+\n",
        "  geom_line(color = \"#00AFBB\", size = 2) + labs(y=\"Cumulative Accepted Offers\", x = \"Week from Contact till Acceptance\") + ggtitle(\"Cumulative Accepted Offers by Week\") \n",
        "options(repr.plot.width=14, repr.plot.height=6)\n",
        "grid.arrange(p1 , p2, ncol=2, widths = c(5,5))"
      ],
      "execution_count": null,
      "outputs": [
        {
          "output_type": "stream",
          "text": [
            "Don't know how to automatically pick scale for object of type difftime. Defaulting to continuous.\n",
            "\n"
          ],
          "name": "stderr"
        },
        {
          "output_type": "display_data",
          "data": {
            "image/png": "[encoded data removed]",
            "text/plain": [
              "plot without title"
            ]
          },
          "metadata": {
            "tags": [],
            "image/png": {
              "width": 840,
              "height": 360
            },
            "text/plain": {
              "width": 840,
              "height": 360
            }
          }
        }
      ]
    },
    {
      "cell_type": "code",
      "metadata": {
        "id": "o0THzxrQ5nK1",
        "colab_type": "code",
        "colab": {
          "base_uri": "https://localhost:8080/",
          "height": 958
        },
        "outputId": "2c829fa4-ea97-4ecb-d9f8-07fd719a7c60"
      },
      "source": [
        "#One hot encoding to convert categories to numeric\n",
        "df_1h <- one_hot(as.data.table(df[,c(\"V1\",\"V2\",\"V3\",\"V4\",\"V5\",\"V6\",\"V8\",\"V9\")]))\n",
        "df_1h <- cbind(df_1h, offeraccepted=df[,c(\"offeraccepted\")])\n",
        "df_1h$offeraccepted <- as.factor(df_1h$offeraccepted)\n",
        "\n",
        "#split into training and testing\n",
        "smp_size <- floor(0.75 * nrow(df_1h))\n",
        "set.seed(123)\n",
        "train_row <- sample(seq_len(nrow(df_1h)), size = smp_size)\n",
        "model_vars <- names(df_1h)\n",
        "summary(df_1h)"
      ],
      "execution_count": null,
      "outputs": [
        {
          "output_type": "display_data",
          "data": {
            "text/plain": [
              "      V1_A            V1_B             V1_C              V2_A         \n",
              " Min.   :0.000   Min.   :0.0000   Min.   :0.00000   Min.   :0.000000  \n",
              " 1st Qu.:0.000   1st Qu.:1.0000   1st Qu.:0.00000   1st Qu.:0.000000  \n",
              " Median :0.000   Median :1.0000   Median :0.00000   Median :0.000000  \n",
              " Mean   :0.132   Mean   :0.8054   Mean   :0.06266   Mean   :0.006253  \n",
              " 3rd Qu.:0.000   3rd Qu.:1.0000   3rd Qu.:0.00000   3rd Qu.:0.000000  \n",
              " Max.   :1.000   Max.   :1.0000   Max.   :1.00000   Max.   :1.000000  \n",
              "      V2_B               V2_C               V2_D             V2_E      \n",
              " Min.   :0.000000   Min.   :0.00e+00   Min.   :0.0000   Min.   :0.000  \n",
              " 1st Qu.:0.000000   1st Qu.:0.00e+00   1st Qu.:0.0000   1st Qu.:0.000  \n",
              " Median :0.000000   Median :0.00e+00   Median :0.0000   Median :0.000  \n",
              " Mean   :0.004061   Mean   :6.45e-05   Mean   :0.1193   Mean   :0.383  \n",
              " 3rd Qu.:0.000000   3rd Qu.:0.00e+00   3rd Qu.:0.0000   3rd Qu.:1.000  \n",
              " Max.   :1.000000   Max.   :1.00e+00   Max.   :1.0000   Max.   :1.000  \n",
              "      V2_F             V2_G              V2_H                V2_I         \n",
              " Min.   :0.0000   Min.   :0.00000   Min.   :0.0000000   Min.   :0.00e+00  \n",
              " 1st Qu.:0.0000   1st Qu.:0.00000   1st Qu.:0.0000000   1st Qu.:0.00e+00  \n",
              " Median :0.0000   Median :0.00000   Median :0.0000000   Median :0.00e+00  \n",
              " Mean   :0.4459   Mean   :0.04119   Mean   :0.0001934   Mean   :6.45e-05  \n",
              " 3rd Qu.:1.0000   3rd Qu.:0.00000   3rd Qu.:0.0000000   3rd Qu.:0.00e+00  \n",
              " Max.   :1.0000   Max.   :1.00000   Max.   :1.0000000   Max.   :1.00e+00  \n",
              "     V3_AW            V3_CH              V3_CK            V3_CL         \n",
              " Min.   :0.0000   Min.   :0.000000   Min.   :0.0000   Min.   :0.000000  \n",
              " 1st Qu.:0.0000   1st Qu.:0.000000   1st Qu.:0.0000   1st Qu.:0.000000  \n",
              " Median :0.0000   Median :0.000000   Median :0.0000   Median :0.000000  \n",
              " Mean   :0.3471   Mean   :0.005608   Mean   :0.1287   Mean   :0.007735  \n",
              " 3rd Qu.:1.0000   3rd Qu.:0.000000   3rd Qu.:0.0000   3rd Qu.:0.000000  \n",
              " Max.   :1.0000   Max.   :1.000000   Max.   :1.0000   Max.   :1.000000  \n",
              "     V3_DW             V3_FF            V3_FR             V3_FZ        \n",
              " Min.   :0.00000   Min.   :0.0000   Min.   :0.00000   Min.   :0.00000  \n",
              " 1st Qu.:0.00000   1st Qu.:0.0000   1st Qu.:0.00000   1st Qu.:0.00000  \n",
              " Median :0.00000   Median :0.0000   Median :0.00000   Median :0.00000  \n",
              " Mean   :0.04654   Mean   :0.1717   Mean   :0.03462   Mean   :0.04899  \n",
              " 3rd Qu.:0.00000   3rd Qu.:0.0000   3rd Qu.:0.00000   3rd Qu.:0.00000  \n",
              " Max.   :1.00000   Max.   :1.0000   Max.   :1.00000   Max.   :1.00000  \n",
              "     V3_HB             V3_MI              V3_MW              V3_OV        \n",
              " Min.   :0.00000   Min.   :0.00e+00   Min.   :0.000000   Min.   :0.00000  \n",
              " 1st Qu.:0.00000   1st Qu.:0.00e+00   1st Qu.:0.000000   1st Qu.:0.00000  \n",
              " Median :0.00000   Median :0.00e+00   Median :0.000000   Median :0.00000  \n",
              " Mean   :0.02933   Mean   :6.45e-05   Mean   :0.001225   Mean   :0.05434  \n",
              " 3rd Qu.:0.00000   3rd Qu.:0.00e+00   3rd Qu.:0.000000   3rd Qu.:0.00000  \n",
              " Max.   :1.00000   Max.   :1.00e+00   Max.   :1.000000   Max.   :1.00000  \n",
              "     V3_TD             V3_WD              V4               V5         \n",
              " Min.   :0.00000   Min.   :0.0000   Min.   : 0.000   Min.   : 0.0000  \n",
              " 1st Qu.:0.00000   1st Qu.:0.0000   1st Qu.: 2.000   1st Qu.: 0.0000  \n",
              " Median :0.00000   Median :0.0000   Median : 3.000   Median : 1.0000  \n",
              " Mean   :0.09173   Mean   :0.0323   Mean   : 3.055   Mean   : 0.8976  \n",
              " 3rd Qu.:0.00000   3rd Qu.:0.0000   3rd Qu.: 3.000   3rd Qu.: 1.0000  \n",
              " Max.   :1.00000   Max.   :1.0000   Max.   :62.000   Max.   :55.0000  \n",
              "       V6                V8               V9        offeraccepted\n",
              " Min.   :  0.000   Min.   : 1.000   Min.   :8.000   0:15224      \n",
              " 1st Qu.:  1.000   1st Qu.: 1.000   1st Qu.:8.250   1:  289      \n",
              " Median :  3.000   Median : 2.000   Median :8.500                \n",
              " Mean   :  4.711   Mean   : 2.404   Mean   :8.499                \n",
              " 3rd Qu.:  6.000   3rd Qu.: 3.000   3rd Qu.:8.750                \n",
              " Max.   :286.000   Max.   :84.000   Max.   :9.000                "
            ]
          },
          "metadata": {
            "tags": []
          }
        }
      ]
    },
    {
      "cell_type": "code",
      "metadata": {
        "id": "oCRDzqsoJuV1",
        "colab_type": "code",
        "colab": {
          "base_uri": "https://localhost:8080/",
          "height": 67
        },
        "outputId": "d9775904-267c-466e-d471-f0f0bb6e4ebb"
      },
      "source": [
        "#Scale for quicker learning and if we want to look want a comparison of how the variable influence the model\n",
        "scale1 <- function(x) scale(x)[,1]\n",
        "df_1h_scale <- df_1h %>% mutate_at(vars(contains(\"V\")), scale1)\n",
        "\n",
        "full_data <- df_1h_scale[, model_vars, with = FALSE]\n",
        "train <- df_1h_scale[train_row, model_vars, with = FALSE]\n",
        "test <- df_1h_scale[-train_row, model_vars, with = FALSE]\n",
        "\n",
        "dim(full_data)\n",
        "dim(train)\n",
        "dim(test)"
      ],
      "execution_count": null,
      "outputs": [
        {
          "output_type": "display_data",
          "data": {
            "text/plain": [
              "[1] 15513    32"
            ],
            "text/latex": "\\begin{enumerate*}\n\\item 15513\n\\item 32\n\\end{enumerate*}\n",
            "text/markdown": "1. 15513\n2. 32\n\n\n",
            "text/html": [
              "<style>\n",
              ".list-inline {list-style: none; margin:0; padding: 0}\n",
              ".list-inline>li {display: inline-block}\n",
              ".list-inline>li:not(:last-child)::after {content: \"\\00b7\"; padding: 0 .5ex}\n",
              "</style>\n",
              "<ol class=list-inline><li>15513</li><li>32</li></ol>\n"
            ]
          },
          "metadata": {
            "tags": []
          }
        },
        {
          "output_type": "display_data",
          "data": {
            "text/plain": [
              "[1] 11634    32"
            ],
            "text/latex": "\\begin{enumerate*}\n\\item 11634\n\\item 32\n\\end{enumerate*}\n",
            "text/markdown": "1. 11634\n2. 32\n\n\n",
            "text/html": [
              "<style>\n",
              ".list-inline {list-style: none; margin:0; padding: 0}\n",
              ".list-inline>li {display: inline-block}\n",
              ".list-inline>li:not(:last-child)::after {content: \"\\00b7\"; padding: 0 .5ex}\n",
              "</style>\n",
              "<ol class=list-inline><li>11634</li><li>32</li></ol>\n"
            ]
          },
          "metadata": {
            "tags": []
          }
        },
        {
          "output_type": "display_data",
          "data": {
            "text/plain": [
              "[1] 3879   32"
            ],
            "text/latex": "\\begin{enumerate*}\n\\item 3879\n\\item 32\n\\end{enumerate*}\n",
            "text/markdown": "1. 3879\n2. 32\n\n\n",
            "text/html": [
              "<style>\n",
              ".list-inline {list-style: none; margin:0; padding: 0}\n",
              ".list-inline>li {display: inline-block}\n",
              ".list-inline>li:not(:last-child)::after {content: \"\\00b7\"; padding: 0 .5ex}\n",
              "</style>\n",
              "<ol class=list-inline><li>3879</li><li>32</li></ol>\n"
            ]
          },
          "metadata": {
            "tags": []
          }
        }
      ]
    },
    {
      "cell_type": "code",
      "metadata": {
        "id": "6dW1MG93FFCV",
        "colab_type": "code",
        "colab": {
          "base_uri": "https://localhost:8080/",
          "height": 924
        },
        "outputId": "487b4051-529f-4d36-eca9-0665ceb0d0f6"
      },
      "source": [
        "mylogit <- glm(offeraccepted ~ . , data = train, family = \"binomial\")\n",
        "#Only one significant variables\n",
        "summary(mylogit)"
      ],
      "execution_count": null,
      "outputs": [
        {
          "output_type": "stream",
          "text": [
            "Warning message:\n",
            "“glm.fit: fitted probabilities numerically 0 or 1 occurred”\n"
          ],
          "name": "stderr"
        },
        {
          "output_type": "display_data",
          "data": {
            "text/plain": [
              "\n",
              "Call:\n",
              "glm(formula = offeraccepted ~ ., family = \"binomial\", data = train)\n",
              "\n",
              "Deviance Residuals: \n",
              "    Min       1Q   Median       3Q      Max  \n",
              "-0.6898  -0.1853  -0.1720  -0.1594   3.1310  \n",
              "\n",
              "Coefficients: (4 not defined because of singularities)\n",
              "              Estimate Std. Error z value Pr(>|z|)   \n",
              "(Intercept) -4.370e+00  5.399e+00  -0.809  0.41835   \n",
              "V1_A         3.225e-01  1.004e-01   3.211  0.00132 **\n",
              "V1_B        -1.393e-01  1.139e-01  -1.223  0.22141   \n",
              "V1_C                NA         NA      NA       NA   \n",
              "V2_A         6.430e-02  3.142e+02   0.000  0.99984   \n",
              "V2_B         9.131e-01  2.516e+02   0.004  0.99710   \n",
              "V2_C                NA         NA      NA       NA   \n",
              "V2_D         4.614e+00  1.282e+03   0.004  0.99713   \n",
              "V2_E         6.845e+00  1.923e+03   0.004  0.99716   \n",
              "V2_F         7.029e+00  1.967e+03   0.004  0.99715   \n",
              "V2_G         2.840e+00  7.862e+02   0.004  0.99712   \n",
              "V2_H         1.206e-02  6.731e+01   0.000  0.99986   \n",
              "V2_I                NA         NA      NA       NA   \n",
              "V3_AW        1.185e-01  2.073e-01   0.572  0.56760   \n",
              "V3_CH       -1.005e+00  3.668e+01  -0.027  0.97815   \n",
              "V3_CK        8.402e-02  1.522e-01   0.552  0.58083   \n",
              "V3_CL       -1.196e+00  3.685e+01  -0.032  0.97411   \n",
              "V3_DW        2.945e-02  1.113e-01   0.265  0.79133   \n",
              "V3_FF        4.869e-02  1.694e-01   0.287  0.77377   \n",
              "V3_FR        2.823e-02  9.909e-02   0.285  0.77573   \n",
              "V3_FZ       -7.053e-02  1.193e-01  -0.591  0.55443   \n",
              "V3_HB       -6.283e-02  1.107e-01  -0.567  0.57043   \n",
              "V3_MI       -1.156e-01  3.176e+01  -0.004  0.99710   \n",
              "V3_MW       -4.788e-01  3.269e+01  -0.015  0.98831   \n",
              "V3_OV       -1.652e-02  1.192e-01  -0.139  0.88984   \n",
              "V3_TD        3.128e-03  1.390e-01   0.022  0.98205   \n",
              "V3_WD               NA         NA      NA       NA   \n",
              "V4           3.968e-02  6.037e-02   0.657  0.51103   \n",
              "V5          -9.822e-02  9.513e-02  -1.033  0.30183   \n",
              "V6          -4.060e-02  1.030e-01  -0.394  0.69332   \n",
              "V8           8.740e-02  7.282e-02   1.200  0.23005   \n",
              "V9           3.746e-02  6.898e-02   0.543  0.58712   \n",
              "---\n",
              "Signif. codes:  0 ‘***’ 0.001 ‘**’ 0.01 ‘*’ 0.05 ‘.’ 0.1 ‘ ’ 1\n",
              "\n",
              "(Dispersion parameter for binomial family taken to be 1)\n",
              "\n",
              "    Null deviance: 2158.0  on 11633  degrees of freedom\n",
              "Residual deviance: 2074.4  on 11606  degrees of freedom\n",
              "AIC: 2130.4\n",
              "\n",
              "Number of Fisher Scoring iterations: 16\n"
            ]
          },
          "metadata": {
            "tags": []
          }
        }
      ]
    },
    {
      "cell_type": "code",
      "metadata": {
        "id": "WRyyGQgKQhO8",
        "colab_type": "code",
        "colab": {
          "base_uri": "https://localhost:8080/",
          "height": 461
        },
        "outputId": "4242b21a-48d5-4e31-fd49-e71730bdcb9c"
      },
      "source": [
        "#Check AUC performance on the train sent\n",
        "prob=predict(mylogit,type=c(\"response\"))\n",
        "train$prob=prob\n",
        "options(repr.plot.width=8, repr.plot.height=6)\n",
        "library(pROC)\n",
        "g <- roc(offeraccepted ~ prob, data = train)\n",
        "auc(g)\n",
        "plot(g)    "
      ],
      "execution_count": null,
      "outputs": [
        {
          "output_type": "stream",
          "text": [
            "Setting levels: control = 0, case = 1\n",
            "\n",
            "Setting direction: controls < cases\n",
            "\n"
          ],
          "name": "stderr"
        },
        {
          "output_type": "display_data",
          "data": {
            "text/plain": [
              "Area under the curve: 0.6592"
            ],
            "text/latex": "0.659231383065677",
            "text/markdown": "0.659231383065677",
            "text/html": [
              "0.659231383065677"
            ]
          },
          "metadata": {
            "tags": []
          }
        },
        {
          "output_type": "display_data",
          "data": {
            "image/png": "[encoded data removed]",
            "text/plain": [
              "plot without title"
            ]
          },
          "metadata": {
            "tags": [],
            "image/png": {
              "width": 480,
              "height": 360
            },
            "text/plain": {
              "width": 480,
              "height": 360
            }
          }
        }
      ]
    },
    {
      "cell_type": "code",
      "metadata": {
        "id": "v_otDpunJZL5",
        "colab_type": "code",
        "colab": {
          "base_uri": "https://localhost:8080/",
          "height": 67
        },
        "outputId": "f4a9be22-0f50-4ccf-ed15-a7c7e9c16bb1"
      },
      "source": [
        "dim(test)\n",
        "dim(train)\n",
        "dim(df_1h_scale)"
      ],
      "execution_count": null,
      "outputs": [
        {
          "output_type": "display_data",
          "data": {
            "text/plain": [
              "[1] 3879   32"
            ],
            "text/latex": "\\begin{enumerate*}\n\\item 3879\n\\item 32\n\\end{enumerate*}\n",
            "text/markdown": "1. 3879\n2. 32\n\n\n",
            "text/html": [
              "<style>\n",
              ".list-inline {list-style: none; margin:0; padding: 0}\n",
              ".list-inline>li {display: inline-block}\n",
              ".list-inline>li:not(:last-child)::after {content: \"\\00b7\"; padding: 0 .5ex}\n",
              "</style>\n",
              "<ol class=list-inline><li>3879</li><li>32</li></ol>\n"
            ]
          },
          "metadata": {
            "tags": []
          }
        },
        {
          "output_type": "display_data",
          "data": {
            "text/plain": [
              "[1] 11634    33"
            ],
            "text/latex": "\\begin{enumerate*}\n\\item 11634\n\\item 33\n\\end{enumerate*}\n",
            "text/markdown": "1. 11634\n2. 33\n\n\n",
            "text/html": [
              "<style>\n",
              ".list-inline {list-style: none; margin:0; padding: 0}\n",
              ".list-inline>li {display: inline-block}\n",
              ".list-inline>li:not(:last-child)::after {content: \"\\00b7\"; padding: 0 .5ex}\n",
              "</style>\n",
              "<ol class=list-inline><li>11634</li><li>33</li></ol>\n"
            ]
          },
          "metadata": {
            "tags": []
          }
        },
        {
          "output_type": "display_data",
          "data": {
            "text/plain": [
              "[1] 15513    32"
            ],
            "text/latex": "\\begin{enumerate*}\n\\item 15513\n\\item 32\n\\end{enumerate*}\n",
            "text/markdown": "1. 15513\n2. 32\n\n\n",
            "text/html": [
              "<style>\n",
              ".list-inline {list-style: none; margin:0; padding: 0}\n",
              ".list-inline>li {display: inline-block}\n",
              ".list-inline>li:not(:last-child)::after {content: \"\\00b7\"; padding: 0 .5ex}\n",
              "</style>\n",
              "<ol class=list-inline><li>15513</li><li>32</li></ol>\n"
            ]
          },
          "metadata": {
            "tags": []
          }
        }
      ]
    },
    {
      "cell_type": "code",
      "metadata": {
        "id": "Elwjw0VGIx3r",
        "colab_type": "code",
        "colab": {
          "base_uri": "https://localhost:8080/",
          "height": 494
        },
        "outputId": "9e9b1420-5756-43b0-8e78-435a0f155a12"
      },
      "source": [
        "#Check AUC performance on the test sent\n",
        "prob=predict(mylogit,newdata=test)\n",
        "test$prob=prob\n",
        "library(pROC)\n",
        "g <- roc(offeraccepted ~ prob, data = test)\n",
        "auc(g)\n",
        "plot(g) "
      ],
      "execution_count": null,
      "outputs": [
        {
          "output_type": "stream",
          "text": [
            "Warning message in predict.lm(object, newdata, se.fit, scale = 1, type = if (type == :\n",
            "“prediction from a rank-deficient fit may be misleading”\n",
            "Setting levels: control = 0, case = 1\n",
            "\n",
            "Setting direction: controls < cases\n",
            "\n"
          ],
          "name": "stderr"
        },
        {
          "output_type": "display_data",
          "data": {
            "text/plain": [
              "Area under the curve: 0.6662"
            ],
            "text/latex": "0.666214283629571",
            "text/markdown": "0.666214283629571",
            "text/html": [
              "0.666214283629571"
            ]
          },
          "metadata": {
            "tags": []
          }
        },
        {
          "output_type": "display_data",
          "data": {
            "image/png": "[encoded data removed]",
            "text/plain": [
              "plot without title"
            ]
          },
          "metadata": {
            "tags": [],
            "image/png": {
              "width": 480,
              "height": 360
            },
            "text/plain": {
              "width": 480,
              "height": 360
            }
          }
        }
      ]
    },
    {
      "cell_type": "code",
      "metadata": {
        "id": "YQuzPbzh5JdJ",
        "colab_type": "code",
        "colab": {
          "base_uri": "https://localhost:8080/",
          "height": 1000
        },
        "outputId": "9e1138b7-bf1f-4a83-95aa-2cc966554019"
      },
      "source": [
        "# define training control\n",
        "train_control <- trainControl(method = \"cv\", number = 10)\n",
        "\n",
        "# train the model on training set\n",
        "cv_model <- train(offeraccepted ~ .,\n",
        "               data = df_1h_scale,\n",
        "               trControl = train_control,\n",
        "               method = \"glm\",\n",
        "               family=binomial())\n",
        "\n",
        "# print cv scores\n",
        "summary(cv_model)"
      ],
      "execution_count": null,
      "outputs": [
        {
          "output_type": "stream",
          "text": [
            "Warning message:\n",
            "“glm.fit: fitted probabilities numerically 0 or 1 occurred”\n",
            "Warning message in predict.lm(object, newdata, se.fit, scale = 1, type = if (type == :\n",
            "“prediction from a rank-deficient fit may be misleading”\n",
            "Warning message:\n",
            "“glm.fit: fitted probabilities numerically 0 or 1 occurred”\n",
            "Warning message in predict.lm(object, newdata, se.fit, scale = 1, type = if (type == :\n",
            "“prediction from a rank-deficient fit may be misleading”\n",
            "Warning message:\n",
            "“glm.fit: fitted probabilities numerically 0 or 1 occurred”\n",
            "Warning message in predict.lm(object, newdata, se.fit, scale = 1, type = if (type == :\n",
            "“prediction from a rank-deficient fit may be misleading”\n",
            "Warning message:\n",
            "“glm.fit: fitted probabilities numerically 0 or 1 occurred”\n",
            "Warning message in predict.lm(object, newdata, se.fit, scale = 1, type = if (type == :\n",
            "“prediction from a rank-deficient fit may be misleading”\n",
            "Warning message in predict.lm(object, newdata, se.fit, scale = 1, type = if (type == :\n",
            "“prediction from a rank-deficient fit may be misleading”\n",
            "Warning message:\n",
            "“glm.fit: fitted probabilities numerically 0 or 1 occurred”\n",
            "Warning message in predict.lm(object, newdata, se.fit, scale = 1, type = if (type == :\n",
            "“prediction from a rank-deficient fit may be misleading”\n",
            "Warning message:\n",
            "“glm.fit: fitted probabilities numerically 0 or 1 occurred”\n",
            "Warning message in predict.lm(object, newdata, se.fit, scale = 1, type = if (type == :\n",
            "“prediction from a rank-deficient fit may be misleading”\n",
            "Warning message:\n",
            "“glm.fit: fitted probabilities numerically 0 or 1 occurred”\n",
            "Warning message in predict.lm(object, newdata, se.fit, scale = 1, type = if (type == :\n",
            "“prediction from a rank-deficient fit may be misleading”\n",
            "Warning message:\n",
            "“glm.fit: fitted probabilities numerically 0 or 1 occurred”\n",
            "Warning message in predict.lm(object, newdata, se.fit, scale = 1, type = if (type == :\n",
            "“prediction from a rank-deficient fit may be misleading”\n",
            "Warning message:\n",
            "“glm.fit: fitted probabilities numerically 0 or 1 occurred”\n",
            "Warning message in predict.lm(object, newdata, se.fit, scale = 1, type = if (type == :\n",
            "“prediction from a rank-deficient fit may be misleading”\n",
            "Warning message:\n",
            "“glm.fit: fitted probabilities numerically 0 or 1 occurred”\n"
          ],
          "name": "stderr"
        },
        {
          "output_type": "display_data",
          "data": {
            "text/plain": [
              "\n",
              "Call:\n",
              "NULL\n",
              "\n",
              "Deviance Residuals: \n",
              "    Min       1Q   Median       3Q      Max  \n",
              "-1.0109  -0.1931  -0.1736  -0.1565   3.1913  \n",
              "\n",
              "Coefficients: (3 not defined because of singularities)\n",
              "              Estimate Std. Error z value Pr(>|z|)   \n",
              "(Intercept) -4.368e+00  4.549e+00  -0.960  0.33686   \n",
              "V1_A         2.673e-01  8.504e-02   3.144  0.00167 **\n",
              "V1_B        -1.673e-01  9.568e-02  -1.748  0.08040 . \n",
              "V1_C                NA         NA      NA       NA   \n",
              "V2_A         1.580e-02  3.135e+02   0.000  0.99996   \n",
              "V2_B         9.036e-01  2.516e+02   0.004  0.99713   \n",
              "V2_C         1.228e-03  4.492e+01   0.000  0.99998   \n",
              "V2_D         4.457e+00  1.282e+03   0.003  0.99723   \n",
              "V2_E         6.602e+00  1.923e+03   0.003  0.99726   \n",
              "V2_F         6.807e+00  1.967e+03   0.003  0.99724   \n",
              "V2_G         2.758e+00  7.862e+02   0.004  0.99720   \n",
              "V2_H         5.122e-03  6.350e+01   0.000  0.99994   \n",
              "V2_I                NA         NA      NA       NA   \n",
              "V3_AW       -1.337e-01  1.458e-01  -0.917  0.35907   \n",
              "V3_CH       -1.042e+00  3.099e+01  -0.034  0.97317   \n",
              "V3_CK       -5.479e-02  1.078e-01  -0.508  0.61140   \n",
              "V3_CL       -1.228e+00  3.093e+01  -0.040  0.96834   \n",
              "V3_DW       -1.199e-01  8.847e-02  -1.355  0.17548   \n",
              "V3_FF       -1.332e-01  1.209e-01  -1.102  0.27042   \n",
              "V3_FR       -5.137e-02  7.589e-02  -0.677  0.49844   \n",
              "V3_FZ       -1.610e-01  9.102e-02  -1.769  0.07689 . \n",
              "V3_HB       -1.591e-01  9.040e-02  -1.760  0.07839 . \n",
              "V3_MI       -1.183e-01  3.176e+01  -0.004  0.99703   \n",
              "V3_MW       -4.963e-01  3.097e+01  -0.016  0.98721   \n",
              "V3_OV       -8.984e-02  8.667e-02  -1.037  0.29988   \n",
              "V3_TD       -1.607e-01  1.038e-01  -1.548  0.12164   \n",
              "V3_WD               NA         NA      NA       NA   \n",
              "V4           5.180e-02  5.304e-02   0.977  0.32875   \n",
              "V5          -1.697e-01  8.780e-02  -1.933  0.05324 . \n",
              "V6          -5.957e-02  9.265e-02  -0.643  0.52024   \n",
              "V8           1.096e-01  6.254e-02   1.753  0.07966 . \n",
              "V9           3.829e-02  5.967e-02   0.642  0.52107   \n",
              "---\n",
              "Signif. codes:  0 ‘***’ 0.001 ‘**’ 0.01 ‘*’ 0.05 ‘.’ 0.1 ‘ ’ 1\n",
              "\n",
              "(Dispersion parameter for binomial family taken to be 1)\n",
              "\n",
              "    Null deviance: 2874.8  on 15512  degrees of freedom\n",
              "Residual deviance: 2766.7  on 15484  degrees of freedom\n",
              "AIC: 2824.7\n",
              "\n",
              "Number of Fisher Scoring iterations: 16\n"
            ]
          },
          "metadata": {
            "tags": []
          }
        }
      ]
    },
    {
      "cell_type": "code",
      "metadata": {
        "id": "A23KvswJpgbT",
        "colab_type": "code",
        "colab": {
          "base_uri": "https://localhost:8080/",
          "height": 461
        },
        "outputId": "44fd3355-8d85-4cfa-b9e2-65ac2686d9f2"
      },
      "source": [
        "#Check AUC performance on the full data\n",
        "test_probs <- predict(cv_model,df_1h_scale,type=\"prob\")\n",
        "\n",
        "cv_lr.ROC <- roc(predictor=test_probs[,2],\n",
        "                response=df_1h_scale$offeraccepted,\n",
        "                levels=rev(levels(df_1h_scale$offeraccepted)))\n",
        "cv_lr.ROC$auc\n",
        "plot(cv_lr.ROC,main=\"RF ROC\")"
      ],
      "execution_count": null,
      "outputs": [
        {
          "output_type": "stream",
          "text": [
            "Warning message in predict.lm(object, newdata, se.fit, scale = 1, type = if (type == :\n",
            "“prediction from a rank-deficient fit may be misleading”\n",
            "Setting direction: controls > cases\n",
            "\n"
          ],
          "name": "stderr"
        },
        {
          "output_type": "display_data",
          "data": {
            "text/plain": [
              "Area under the curve: 0.6662"
            ],
            "text/latex": "0.666173834066408",
            "text/markdown": "0.666173834066408",
            "text/html": [
              "0.666173834066408"
            ]
          },
          "metadata": {
            "tags": []
          }
        },
        {
          "output_type": "display_data",
          "data": {
            "image/png": "[encoded data removed]",
            "text/plain": [
              "Plot with title “RF ROC”"
            ]
          },
          "metadata": {
            "tags": [],
            "image/png": {
              "width": 480,
              "height": 360
            },
            "text/plain": {
              "width": 480,
              "height": 360
            }
          }
        }
      ]
    },
    {
      "cell_type": "code",
      "metadata": {
        "id": "eA1TzEkK0HxB",
        "colab_type": "code",
        "colab": {
          "base_uri": "https://localhost:8080/",
          "height": 437
        },
        "outputId": "277f1549-767f-4f98-ea7b-1ed5c9063322"
      },
      "source": [
        "varImp(cv_model)"
      ],
      "execution_count": null,
      "outputs": [
        {
          "output_type": "display_data",
          "data": {
            "text/plain": [
              "glm variable importance\n",
              "\n",
              "  only 20 most important variables shown (out of 28)\n",
              "\n",
              "       Overall\n",
              "V1_A  100.0000\n",
              "V5     61.4897\n",
              "V3_FZ  56.2726\n",
              "V3_HB  55.9898\n",
              "V8     55.7526\n",
              "V1_B   55.6165\n",
              "V3_TD  49.2396\n",
              "V3_DW  43.0970\n",
              "V3_FF  35.0577\n",
              "V3_OV  32.9771\n",
              "V4     31.0669\n",
              "V3_AW  29.1740\n",
              "V3_FR  21.5336\n",
              "V6     20.4528\n",
              "V9     20.4121\n",
              "V3_CK  16.1615\n",
              "V3_CL   1.2617\n",
              "V3_CH   1.0692\n",
              "V3_MW   0.5089\n",
              "V3_MI   0.1176"
            ]
          },
          "metadata": {
            "tags": []
          }
        }
      ]
    },
    {
      "cell_type": "code",
      "metadata": {
        "id": "95R1HSlr-yHy",
        "colab_type": "code",
        "colab": {}
      },
      "source": [
        "#Format for RF training\n",
        "train_temp <- df_1h_scale  %>% \n",
        "  mutate(offeraccepted = factor(offeraccepted, \n",
        "          labels = make.names(levels(offeraccepted))))"
      ],
      "execution_count": null,
      "outputs": []
    },
    {
      "cell_type": "code",
      "metadata": {
        "id": "RjZ0yY3WNmFr",
        "colab_type": "code",
        "colab": {
          "base_uri": "https://localhost:8080/",
          "height": 353
        },
        "outputId": "67505002-ced2-4dce-df0d-566fac48ba18"
      },
      "source": [
        "#Set controls for RF model\n",
        "ctrl <- trainControl(method = \"repeatedcv\", \n",
        "                     number = 5, \n",
        "                     repeats = 3, \n",
        "                     verboseIter = FALSE,\n",
        "                     summaryFunction = twoClassSummary,\n",
        "                     classProbs = TRUE,\n",
        "                     sampling = \"up\")\n",
        "#Fit the RF model\n",
        "model_rf_over <- train(offeraccepted ~ .,\n",
        "                         data = train_temp,\n",
        "                         method = \"rf\",\n",
        "                         #preProcess = c(\"scale\", \"center\"),\n",
        "                         trControl = ctrl,\n",
        "                         metric=\"ROC\")\n",
        "print(model_rf_over)"
      ],
      "execution_count": null,
      "outputs": [
        {
          "output_type": "stream",
          "text": [
            "Random Forest \n",
            "\n",
            "15513 samples\n",
            "   31 predictor\n",
            "    2 classes: 'X0', 'X1' \n",
            "\n",
            "No pre-processing\n",
            "Resampling: Cross-Validated (5 fold, repeated 3 times) \n",
            "Summary of sample sizes: 12411, 12410, 12411, 12410, 12410, 12410, ... \n",
            "Addtional sampling using up-sampling\n",
            "\n",
            "Resampling results across tuning parameters:\n",
            "\n",
            "  mtry  ROC        Sens       Spec       \n",
            "   2    0.6258037  0.7776526  0.405847953\n",
            "  16    0.5541334  0.9925119  0.001169591\n",
            "  31    0.5488863  0.9902347  0.006977213\n",
            "\n",
            "ROC was used to select the optimal model using the largest value.\n",
            "The final value used for the model was mtry = 2.\n"
          ],
          "name": "stdout"
        }
      ]
    },
    {
      "cell_type": "code",
      "metadata": {
        "id": "a9j6FgSDs5_y",
        "colab_type": "code",
        "colab": {
          "base_uri": "https://localhost:8080/",
          "height": 437
        },
        "outputId": "0949f44a-1312-4284-af46-af9c5a3421bc"
      },
      "source": [
        "#Check variable importance\n",
        "varImp(model_rf_over, scale = FALSE)"
      ],
      "execution_count": null,
      "outputs": [
        {
          "output_type": "display_data",
          "data": {
            "text/plain": [
              "rf variable importance\n",
              "\n",
              "  only 20 most important variables shown (out of 31)\n",
              "\n",
              "      Overall\n",
              "V1_A   301.45\n",
              "V9     277.47\n",
              "V1_B   266.79\n",
              "V6     198.94\n",
              "V8     161.91\n",
              "V4     151.89\n",
              "V5     150.31\n",
              "V3_AW   41.93\n",
              "V2_E    38.25\n",
              "V3_CK   37.71\n",
              "V2_F    35.95\n",
              "V3_OV   34.12\n",
              "V3_TD   31.60\n",
              "V2_D    30.50\n",
              "V3_FF   30.21\n",
              "V3_FZ   29.16\n",
              "V1_C    28.46\n",
              "V3_HB   27.62\n",
              "V3_FR   27.31\n",
              "V3_WD   26.77"
            ]
          },
          "metadata": {
            "tags": []
          }
        }
      ]
    },
    {
      "cell_type": "code",
      "metadata": {
        "id": "LbGaupteZXeK",
        "colab_type": "code",
        "colab": {
          "base_uri": "https://localhost:8080/",
          "height": 607
        },
        "outputId": "e30e7958-05cc-4675-ed9e-4364c62491a2"
      },
      "source": [
        "model_rf_over$bestTune\n",
        "plot(model_rf_over)  \t\t# Plot the performance of the training models\n",
        "res <- model_rf_over$results\n",
        "res"
      ],
      "execution_count": null,
      "outputs": [
        {
          "output_type": "display_data",
          "data": {
            "text/plain": [
              "  mtry\n",
              "1 2   "
            ],
            "text/latex": "A data.frame: 1 × 1\n\\begin{tabular}{r|l}\n  & mtry\\\\\n  & <dbl>\\\\\n\\hline\n\t1 & 2\\\\\n\\end{tabular}\n",
            "text/markdown": "\nA data.frame: 1 × 1\n\n| <!--/--> | mtry &lt;dbl&gt; |\n|---|---|\n| 1 | 2 |\n\n",
            "text/html": [
              "<table>\n",
              "<caption>A data.frame: 1 × 1</caption>\n",
              "<thead>\n",
              "\t<tr><th></th><th scope=col>mtry</th></tr>\n",
              "\t<tr><th></th><th scope=col>&lt;dbl&gt;</th></tr>\n",
              "</thead>\n",
              "<tbody>\n",
              "\t<tr><th scope=row>1</th><td>2</td></tr>\n",
              "</tbody>\n",
              "</table>\n"
            ]
          },
          "metadata": {
            "tags": []
          }
        },
        {
          "output_type": "display_data",
          "data": {
            "text/plain": [
              "  mtry ROC       Sens      Spec        ROCSD      SensSD      SpecSD     \n",
              "1  2   0.6258037 0.7776526 0.405847953 0.03134540 0.040787804 0.094367111\n",
              "2 16   0.5541334 0.9925119 0.001169591 0.03227172 0.001580685 0.004529805\n",
              "3 31   0.5488863 0.9902347 0.006977213 0.03210622 0.002379512 0.014496743"
            ],
            "text/latex": "A data.frame: 3 × 7\n\\begin{tabular}{r|lllllll}\n  & mtry & ROC & Sens & Spec & ROCSD & SensSD & SpecSD\\\\\n  & <dbl> & <dbl> & <dbl> & <dbl> & <dbl> & <dbl> & <dbl>\\\\\n\\hline\n\t1 &  2 & 0.6258037 & 0.7776526 & 0.405847953 & 0.03134540 & 0.040787804 & 0.094367111\\\\\n\t2 & 16 & 0.5541334 & 0.9925119 & 0.001169591 & 0.03227172 & 0.001580685 & 0.004529805\\\\\n\t3 & 31 & 0.5488863 & 0.9902347 & 0.006977213 & 0.03210622 & 0.002379512 & 0.014496743\\\\\n\\end{tabular}\n",
            "text/markdown": "\nA data.frame: 3 × 7\n\n| <!--/--> | mtry &lt;dbl&gt; | ROC &lt;dbl&gt; | Sens &lt;dbl&gt; | Spec &lt;dbl&gt; | ROCSD &lt;dbl&gt; | SensSD &lt;dbl&gt; | SpecSD &lt;dbl&gt; |\n|---|---|---|---|---|---|---|---|\n| 1 |  2 | 0.6258037 | 0.7776526 | 0.405847953 | 0.03134540 | 0.040787804 | 0.094367111 |\n| 2 | 16 | 0.5541334 | 0.9925119 | 0.001169591 | 0.03227172 | 0.001580685 | 0.004529805 |\n| 3 | 31 | 0.5488863 | 0.9902347 | 0.006977213 | 0.03210622 | 0.002379512 | 0.014496743 |\n\n",
            "text/html": [
              "<table>\n",
              "<caption>A data.frame: 3 × 7</caption>\n",
              "<thead>\n",
              "\t<tr><th></th><th scope=col>mtry</th><th scope=col>ROC</th><th scope=col>Sens</th><th scope=col>Spec</th><th scope=col>ROCSD</th><th scope=col>SensSD</th><th scope=col>SpecSD</th></tr>\n",
              "\t<tr><th></th><th scope=col>&lt;dbl&gt;</th><th scope=col>&lt;dbl&gt;</th><th scope=col>&lt;dbl&gt;</th><th scope=col>&lt;dbl&gt;</th><th scope=col>&lt;dbl&gt;</th><th scope=col>&lt;dbl&gt;</th><th scope=col>&lt;dbl&gt;</th></tr>\n",
              "</thead>\n",
              "<tbody>\n",
              "\t<tr><th scope=row>1</th><td> 2</td><td>0.6258037</td><td>0.7776526</td><td>0.405847953</td><td>0.03134540</td><td>0.040787804</td><td>0.094367111</td></tr>\n",
              "\t<tr><th scope=row>2</th><td>16</td><td>0.5541334</td><td>0.9925119</td><td>0.001169591</td><td>0.03227172</td><td>0.001580685</td><td>0.004529805</td></tr>\n",
              "\t<tr><th scope=row>3</th><td>31</td><td>0.5488863</td><td>0.9902347</td><td>0.006977213</td><td>0.03210622</td><td>0.002379512</td><td>0.014496743</td></tr>\n",
              "</tbody>\n",
              "</table>\n"
            ]
          },
          "metadata": {
            "tags": []
          }
        },
        {
          "output_type": "display_data",
          "data": {
            "image/png": "[encoded data removed]",
            "text/plain": [
              "plot without title"
            ]
          },
          "metadata": {
            "tags": [],
            "image/png": {
              "width": 480,
              "height": 360
            },
            "text/plain": {
              "width": 480,
              "height": 360
            }
          }
        }
      ]
    },
    {
      "cell_type": "code",
      "metadata": {
        "id": "80usewsZMV_U",
        "colab_type": "code",
        "colab": {}
      },
      "source": [
        ""
      ],
      "execution_count": null,
      "outputs": []
    }
  ]
}
